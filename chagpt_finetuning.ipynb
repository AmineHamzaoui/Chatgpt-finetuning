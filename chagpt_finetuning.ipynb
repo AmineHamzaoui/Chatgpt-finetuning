{
  "cells": [
    {
      "cell_type": "code",
      "execution_count": null,
      "metadata": {
        "id": "pk_kJw3rv19Y"
      },
      "outputs": [],
      "source": [
        "%%bash\n",
        "python3 -m pip install --upgrade pip\n",
        "pip -q install -U datasets\n",
        "pip -q install openai==0.28"
      ]
    },
    {
      "cell_type": "code",
      "execution_count": null,
      "metadata": {
        "id": "pRZKS_uR4yeG"
      },
      "outputs": [],
      "source": [
        "from openai import FineTuningJob, ChatCompletion\n",
        "from datasets import load_dataset\n",
        "from time import sleep\n",
        "import random\n",
        "import json\n",
        "import pandas as pd"
      ]
    },
    {
      "cell_type": "code",
      "execution_count": null,
      "metadata": {
        "colab": {
          "base_uri": "https://localhost:8080/"
        },
        "id": "LeL3PRTl5UyM",
        "outputId": "e7ded8ad-67a8-4132-866f-8f72670912ec"
      },
      "outputs": [
        {
          "name": "stdout",
          "output_type": "stream",
          "text": [
            "                                       question  \\\n",
            "0  Anthrax What is anthrax and what  causes it?   \n",
            "1                     What animals get anthrax?   \n",
            "2                How can my animal get anthrax?   \n",
            "3            How does anthrax affect my animal?   \n",
            "4                            Can I get anthrax?   \n",
            "\n",
            "                                              answer  Unnamed: 2 Unnamed: 3  \n",
            "0  Anthrax is a bacterial disease  caused by Baci...         NaN        NaN  \n",
            "1  Cattle, sheep, and goats are most  at risk for...         NaN        NaN  \n",
            "2  Most animals get anthrax orally  through soil ...         NaN        NaN  \n",
            "3  The most common sign of anthrax  infection in ...         NaN        NaN  \n",
            "4  Yes. Anthrax can enter through  a break or abr...         NaN        NaN  \n"
          ]
        }
      ],
      "source": [
        "import pandas as pd\n",
        "\n",
        "# Define the file path\n",
        "excel_file_path = '/content/questions_and_answers_checked.xls'\n",
        "\n",
        "# Load the dataset from Excel\n",
        "data = pd.read_excel(excel_file_path)\n",
        "\n",
        "# Display the first few rows of the data\n",
        "print(data.head())\n"
      ]
    },
    {
      "cell_type": "code",
      "execution_count": null,
      "metadata": {
        "colab": {
          "base_uri": "https://localhost:8080/"
        },
        "id": "YkrmKqlFS_Nk",
        "outputId": "a2636a65-fcf8-4e78-f261-7d067cdeb5ac"
      },
      "outputs": [
        {
          "name": "stdout",
          "output_type": "stream",
          "text": [
            "Mounted at /content/drive\n"
          ]
        }
      ],
      "source": [
        "from google.colab import drive\n",
        "drive.mount('/content/drive')"
      ]
    },
    {
      "cell_type": "code",
      "execution_count": null,
      "metadata": {
        "id": "-cHUDw8957cR"
      },
      "outputs": [],
      "source": [
        "##################DATA FRAME AND SHUFFLE\n",
        "\n",
        "import pandas as pd\n",
        "import random\n",
        "\n",
        "def format_data(df):\n",
        "    # Check if the input is a DataFrame\n",
        "    if not isinstance(df, pd.DataFrame):\n",
        "        raise ValueError(\"Input data must be a pandas DataFrame\")\n",
        "\n",
        "    # Check if the DataFrame contains 'questions' and 'answers' columns\n",
        "    if 'question' not in df.columns or 'answer' not in df.columns:\n",
        "        raise ValueError(\"DataFrame must contain 'questions' and 'answers' columns\")\n",
        "\n",
        "    # Create a list of formatted data from the DataFrame\n",
        "    formatted_data = [{\n",
        "        \"messages\": [\n",
        "            {\"role\": \"system\", \"content\": \"You are a Nutrition Scientist and Veterinary for animals. Answer users' questions with a informative tone\"},\n",
        "            {\"role\": \"user\", \"content\": row['question']},\n",
        "            {\"role\": \"assistant\", \"content\": row['answer']}\n",
        "        ]\n",
        "    } for _, row in df.iterrows()]  # Iterate over each row of the DataFrame\n",
        "\n",
        "    # Shuffle the formatted data randomly\n",
        "    random.shuffle(formatted_data)\n",
        "\n",
        "    # Return the formatted data\n",
        "    return formatted_data\n"
      ]
    },
    {
      "cell_type": "code",
      "execution_count": null,
      "metadata": {
        "id": "c-Q1Q8w16PVI"
      },
      "outputs": [],
      "source": [
        "formatted_data = format_data(data)"
      ]
    },
    {
      "cell_type": "markdown",
      "metadata": {
        "id": "HL3fFIcjJeIG"
      },
      "source": []
    },
    {
      "cell_type": "markdown",
      "metadata": {
        "id": "rbtSYN8GJBDJ"
      },
      "source": []
    },
    {
      "cell_type": "code",
      "execution_count": null,
      "metadata": {
        "colab": {
          "base_uri": "https://localhost:8080/"
        },
        "id": "HRD3RFUx77gY",
        "outputId": "f8e6d5ff-99d1-4580-bf4b-8b32946d479a"
      },
      "outputs": [
        {
          "data": {
            "text/plain": [
              "{'messages': [{'role': 'system',\n",
              "   'content': \"You are a Nutrition Scientist and Veterinary for animals. Answer users' questions with a informative tone\"},\n",
              "  {'role': 'user', 'content': 'Who should I contact  if I  suspect MRSA?'},\n",
              "  {'role': 'assistant',\n",
              "   'content': 'In Animals Contact your veterinarian. In Humans   Contact your physician.'}]}"
            ]
          },
          "execution_count": 8,
          "metadata": {},
          "output_type": "execute_result"
        }
      ],
      "source": [
        "formatted_data[7]"
      ]
    },
    {
      "cell_type": "code",
      "execution_count": null,
      "metadata": {
        "id": "2z5QSlGj8CAQ"
      },
      "outputs": [],
      "source": [
        "TRAIN_SIZE = int(len(formatted_data) * 0.7)\n",
        "\n",
        "training_data = formatted_data[:TRAIN_SIZE]\n",
        "validation_data = formatted_data[TRAIN_SIZE:]\n",
        "\n",
        "####Overall, this is a straightforward method for partitioning data into\n",
        "###training and validation sets, commonly used in machine learning to both develop and validate models effectively."
      ]
    },
    {
      "cell_type": "code",
      "execution_count": null,
      "metadata": {
        "id": "UuJrzGZV8SKy"
      },
      "outputs": [],
      "source": [
        "def save_data(dictionary_data, file_name):\n",
        "\n",
        "    with open(file_name, \"w\") as outfile:\n",
        "        for entry in dictionary_data:\n",
        "            json.dump(entry, outfile)\n",
        "            outfile.write(\"\\n\")"
      ]
    },
    {
      "cell_type": "code",
      "execution_count": null,
      "metadata": {
        "id": "XP_ETEXw8U0g"
      },
      "outputs": [],
      "source": [
        "save_data(training_data, \"training_data.jsonl\")\n",
        "save_data(validation_data, \"validation_data.jsonl\")"
      ]
    },
    {
      "cell_type": "code",
      "execution_count": null,
      "metadata": {
        "colab": {
          "base_uri": "https://localhost:8080/"
        },
        "id": "OcvinODtMQ4a",
        "outputId": "27803d05-585d-42f3-bb97-992204531e76"
      },
      "outputs": [
        {
          "name": "stdout",
          "output_type": "stream",
          "text": [
            "Training Data Size: 95\n",
            "Validation Data Size: 41\n"
          ]
        }
      ],
      "source": [
        "print(f\"Training Data Size: {len(training_data)}\")\n",
        "print(f\"Validation Data Size: {len(validation_data)}\")"
      ]
    },
    {
      "cell_type": "code",
      "execution_count": null,
      "metadata": {
        "id": "8pFajnuXMbLj"
      },
      "outputs": [],
      "source": [
        "import os\n",
        "import openai"
      ]
    },
    {
      "cell_type": "code",
      "execution_count": null,
      "metadata": {
        "id": "XoB78JmqNmN3"
      },
      "outputs": [],
      "source": [
        "def upload_fine_tuning_data(data_path):\n",
        "\n",
        "    uploaded_file = openai.File.create(\n",
        "        file = open(data_path),\n",
        "        purpose = \"fine-tune\"\n",
        "    )\n",
        "\n",
        "    return uploaded_file"
      ]
    },
    {
      "cell_type": "code",
      "execution_count": null,
      "metadata": {
        "id": "4sSbijBePoW4"
      },
      "outputs": [],
      "source": [
        "uploaded_training_data = upload_fine_tuning_data(\"/content/training_data.jsonl\")"
      ]
    },
    {
      "cell_type": "code",
      "execution_count": null,
      "metadata": {
        "colab": {
          "base_uri": "https://localhost:8080/"
        },
        "id": "jPYpyQ5JXFa5",
        "outputId": "9f90c3ca-17c9-4b46-f6db-114dad292f17"
      },
      "outputs": [
        {
          "data": {
            "text/plain": [
              "<File file id=file-2mvbMUPRoBhz8NfZZc1Bdply at 0x7af3cca7bb50> JSON: {\n",
              "  \"object\": \"file\",\n",
              "  \"id\": \"file-2mvbMUPRoBhz8NfZZc1Bdply\",\n",
              "  \"purpose\": \"fine-tune\",\n",
              "  \"filename\": \"file\",\n",
              "  \"bytes\": 61990,\n",
              "  \"created_at\": 1714475074,\n",
              "  \"status\": \"processed\",\n",
              "  \"status_details\": null\n",
              "}"
            ]
          },
          "execution_count": 17,
          "metadata": {},
          "output_type": "execute_result"
        }
      ],
      "source": [
        "uploaded_training_data"
      ]
    },
    {
      "cell_type": "code",
      "execution_count": null,
      "metadata": {
        "id": "h9g1Q0KKW_Gm"
      },
      "outputs": [],
      "source": [
        "uploaded_training_id = uploaded_training_data[\"id\"]"
      ]
    },
    {
      "cell_type": "code",
      "execution_count": null,
      "metadata": {
        "id": "fnmEVQpiXZb5"
      },
      "outputs": [],
      "source": [
        "uploaded_validation_data = upload_fine_tuning_data(\"/content/validation_data.jsonl\")"
      ]
    },
    {
      "cell_type": "code",
      "execution_count": null,
      "metadata": {
        "id": "Y8S4c18pXgOD"
      },
      "outputs": [],
      "source": [
        "uploaded_validation_id = uploaded_validation_data[\"id\"]"
      ]
    },
    {
      "cell_type": "code",
      "execution_count": null,
      "metadata": {
        "id": "FjZgJUOqXjay"
      },
      "outputs": [],
      "source": [
        "def create_fine_tuning(base_model, train_id, val_id):\n",
        "\n",
        "    fine_tuning_response = FineTuningJob.create(\n",
        "        training_file = train_id,\n",
        "        validation_file = val_id,\n",
        "        model = base_model\n",
        "    )\n",
        "\n",
        "    return fine_tuning_response"
      ]
    },
    {
      "cell_type": "code",
      "execution_count": null,
      "metadata": {
        "id": "96z42FNOXmz8"
      },
      "outputs": [],
      "source": [
        "base_model = \"gpt-3.5-turbo\"\n",
        "\n",
        "fine_tuning_response = create_fine_tuning(base_model,\n",
        "                                         uploaded_training_id,\n",
        "                                         uploaded_validation_id)"
      ]
    },
    {
      "cell_type": "code",
      "execution_count": null,
      "metadata": {
        "id": "IoPy8Ojq1iK4"
      },
      "outputs": [],
      "source": [
        "fine_tuning_job_ID = fine_tuning_response[\"id\"]"
      ]
    },
    {
      "cell_type": "code",
      "execution_count": null,
      "metadata": {
        "colab": {
          "base_uri": "https://localhost:8080/"
        },
        "id": "ctO7ruH22qj4",
        "outputId": "498c4777-2c51-4584-e009-963b9e23e768"
      },
      "outputs": [
        {
          "data": {
            "text/plain": [
              "<FineTuningJob fine_tuning.job id=ftjob-oEKCP89Ktkqd56VVYi62VH5X at 0x7af3cc675b20> JSON: {\n",
              "  \"object\": \"fine_tuning.job\",\n",
              "  \"id\": \"ftjob-oEKCP89Ktkqd56VVYi62VH5X\",\n",
              "  \"model\": \"gpt-3.5-turbo-0125\",\n",
              "  \"created_at\": 1714475088,\n",
              "  \"finished_at\": null,\n",
              "  \"fine_tuned_model\": null,\n",
              "  \"organization_id\": \"org-pUzj5HAW0fIp63iRMPajaCvQ\",\n",
              "  \"result_files\": [],\n",
              "  \"status\": \"validating_files\",\n",
              "  \"validation_file\": \"file-t7drbIeQsz2Jl6NGujXGVbJ5\",\n",
              "  \"training_file\": \"file-2mvbMUPRoBhz8NfZZc1Bdply\",\n",
              "  \"hyperparameters\": {\n",
              "    \"n_epochs\": \"auto\",\n",
              "    \"batch_size\": \"auto\",\n",
              "    \"learning_rate_multiplier\": \"auto\"\n",
              "  },\n",
              "  \"trained_tokens\": null,\n",
              "  \"error\": {},\n",
              "  \"user_provided_suffix\": null,\n",
              "  \"seed\": 1397851345,\n",
              "  \"estimated_finish\": null,\n",
              "  \"integrations\": []\n",
              "}"
            ]
          },
          "execution_count": 24,
          "metadata": {},
          "output_type": "execute_result"
        }
      ],
      "source": [
        "fine_tuning_response = FineTuningJob.retrieve(fine_tuning_job_ID)\n",
        "fine_tuning_response"
      ]
    },
    {
      "cell_type": "code",
      "execution_count": null,
      "metadata": {
        "colab": {
          "background_save": true,
          "base_uri": "https://localhost:8080/"
        },
        "id": "tt4AooKL2zuC",
        "outputId": "ef6ce182-133d-4b79-ca9f-2c71d66a0e3a"
      },
      "outputs": [
        {
          "name": "stdout",
          "output_type": "stream",
          "text": [
            "Fine-tuning in progress...\n",
            "Fine-tuning in progress...\n",
            "Fine-tuning in progress...\n",
            "Fine-tuning in progress...\n",
            "Fine-tuning in progress...\n",
            "Fine-tuning in progress...\n",
            "Fine-tuning in progress...\n",
            "Fine-tuning in progress...\n",
            "Fine-tuning in progress...\n",
            "Fine-tuning in progress...\n",
            "Fine-tuning in progress...\n",
            "Fine-tuning in progress...\n",
            "Fine-tuning in progress...\n",
            "Fine-tuning in progress...\n",
            "Fine-tuning in progress...\n",
            "Fine-tuning in progress...\n",
            "Fine-tuning in progress...\n",
            "Fine-tuning in progress...\n"
          ]
        }
      ],
      "source": [
        "while True:\n",
        "\n",
        "    fine_tuning_response = FineTuningJob.retrieve(fine_tuning_job_ID)\n",
        "    fine_tuned_model_ID = fine_tuning_response[\"fine_tuned_model\"]\n",
        "\n",
        "    if(fine_tuned_model_ID != None):\n",
        "        print(\"Fine-tuning completed!\")\n",
        "        print(f\"Fine-tuned model ID: {fine_tuned_model_ID}\")\n",
        "        break\n",
        "\n",
        "    else:\n",
        "        print(\"Fine-tuning in progress...\")\n",
        "        sleep(200)"
      ]
    },
    {
      "cell_type": "code",
      "execution_count": null,
      "metadata": {
        "colab": {
          "base_uri": "https://localhost:8080/"
        },
        "id": "G8xXS0y-3J5J",
        "outputId": "29d89f13-bca0-45fe-ae0d-9968f00c48e1"
      },
      "outputs": [
        {
          "data": {
            "text/plain": [
              "<FineTuningJob fine_tuning.job id=ftjob-Dihf5PsgjLfWLwTB3oDy56pq at 0x7e18f919a570> JSON: {\n",
              "  \"object\": \"fine_tuning.job\",\n",
              "  \"id\": \"ftjob-Dihf5PsgjLfWLwTB3oDy56pq\",\n",
              "  \"model\": \"gpt-3.5-turbo-0125\",\n",
              "  \"created_at\": 1714325740,\n",
              "  \"finished_at\": 1714326307,\n",
              "  \"fine_tuned_model\": \"ft:gpt-3.5-turbo-0125:personal::9J2sHi6o\",\n",
              "  \"organization_id\": \"org-pUzj5HAW0fIp63iRMPajaCvQ\",\n",
              "  \"result_files\": [\n",
              "    \"file-abBNDSlanytIdxOaHRRDouQ9\"\n",
              "  ],\n",
              "  \"status\": \"succeeded\",\n",
              "  \"validation_file\": \"file-jqQO4xJ4htcuyCLpr4owNQfW\",\n",
              "  \"training_file\": \"file-1yWY1AurH34r9V8zvLswNDjj\",\n",
              "  \"hyperparameters\": {\n",
              "    \"n_epochs\": 3,\n",
              "    \"batch_size\": 1,\n",
              "    \"learning_rate_multiplier\": 2\n",
              "  },\n",
              "  \"trained_tokens\": 39495,\n",
              "  \"error\": {},\n",
              "  \"user_provided_suffix\": null,\n",
              "  \"seed\": 1112873834,\n",
              "  \"estimated_finish\": null,\n",
              "  \"integrations\": []\n",
              "}"
            ]
          },
          "execution_count": 38,
          "metadata": {},
          "output_type": "execute_result"
        }
      ],
      "source": [
        "fine_tuning_response"
      ]
    },
    {
      "cell_type": "code",
      "execution_count": null,
      "metadata": {
        "id": "qRYmAaOs35_g"
      },
      "outputs": [],
      "source": [
        "def answer_question(question, model_ID):\n",
        "\n",
        "  message = [\n",
        "              {\n",
        "                  \"role\": \"system\",\n",
        "                  \"content\": \"You are a Biology Scientist and Animal Feed expert you have a sanitary reviews and avices based on the composition of feed with the relation of. Please reply users' answer using polite and respectful language.spectful language.\"\n",
        "              },\n",
        "\n",
        "              {\n",
        "                  \"role\": \"user\",\n",
        "                  \"content\": question\n",
        "              }\n",
        "            ]\n",
        "\n",
        "  # Start inferencing\n",
        "  model_completion = ChatCompletion.create(model=model_ID,\n",
        "                                          messages = message)\n",
        "\n",
        "  # Get the response\n",
        "  response = model_completion.choices[0].message\n",
        "\n",
        "  return response[\"content\"]"
      ]
    },
    {
      "cell_type": "code",
      "execution_count": null,
      "metadata": {
        "id": "rUYs8vEZ4G7v"
      },
      "outputs": [],
      "source": [
        "question = \"Can I give you a feed compostion and you give me the review for sanitary purposes Feed Composition Date N° lot N° de l'echantillon Heure Prelevement Date de prelevement Groupe Type de produit Humidite (%) Aw Proteine (%) Amidon (%) Fibre (%) Calcium (%) Fine % Durete Durabilite % Matiere grasse (A) \" + \"1/1/2024 3051 2400001 Poste 1 PF Ruminants ALCO 7 11.76 0.651 19.4 35.38 3.83 1.8 5 89 3.51\""
      ]
    },
    {
      "cell_type": "code",
      "execution_count": null,
      "metadata": {
        "id": "3hfCrc-T6HWf"
      },
      "outputs": [],
      "source": [
        "response_fine_tuned_model = answer_question(question, fine_tuned_model_ID)"
      ]
    },
    {
      "cell_type": "code",
      "execution_count": null,
      "metadata": {
        "id": "TwJd4qwz6Tz1"
      },
      "outputs": [],
      "source": [
        "response_base_model = answer_question(question, base_model)"
      ]
    },
    {
      "cell_type": "code",
      "execution_count": null,
      "metadata": {
        "colab": {
          "base_uri": "https://localhost:8080/"
        },
        "id": "iCKgAlne6YZy",
        "outputId": "c525bc12-af24-4c2e-bc90-a8afd2f04cca"
      },
      "outputs": [
        {
          "name": "stdout",
          "output_type": "stream",
          "text": [
            "Fine-tuned model response: \n",
            "The sanitary review would be that this is a low risk feed for the  potential  of  pathogen  growth or toxin production.\n"
          ]
        }
      ],
      "source": [
        "print(f\"Fine-tuned model response: \\n{response_fine_tuned_model}\")"
      ]
    },
    {
      "cell_type": "code",
      "execution_count": null,
      "metadata": {
        "colab": {
          "base_uri": "https://localhost:8080/"
        },
        "id": "XHxZyOX56n_D",
        "outputId": "4544b659-83a5-4df1-e90d-3475b452bd9f"
      },
      "outputs": [
        {
          "name": "stdout",
          "output_type": "stream",
          "text": [
            "Base model response: \n",
            "Based on the feed composition you have provided, I can evaluate the following aspects for sanitary purposes:\n",
            "\n",
            "- Moisture content: The feed has a moisture content of 7%, which is within the acceptable range for animal feed to prevent mold growth and bacterial contamination.\n",
            "\n",
            "- Protein content: The protein level is 11.76%, which is important for animal growth and development. However, it is recommended to ensure the quality of protein sources used in the feed.\n",
            "\n",
            "- Starch content: The feed contains 0.651% starch, which is relatively low. Starch is a source of energy for animals, and its level should be monitored to meet the energy requirements of the animals.\n",
            "\n",
            "- Fiber content: The fiber level is at 19.4%, which is essential for digestive health in animals. Adequate fiber content helps in the proper functioning of the digestive system.\n",
            "\n",
            "- Calcium content: The feed contains 3.83% calcium, which is crucial for bone health and other physiological functions in animals. It is necessary to maintain the correct calcium-phosphorus ratio in the feed.\n",
            "\n",
            "- Fat content: The feed has a fat content of 3.51%, which provides energy and essential fatty acids to the animals. Proper storage and handling of feed containing fats are necessary to prevent rancidity.\n",
            "\n",
            "Overall, the feed composition seems to have a balanced nutrient profile. It is important to ensure proper storage, handling, and hygienic practices to maintain the feed quality and prevent contamination. Regular monitoring and quality checks should be conducted to ensure the safety and efficacy of the feed for the animals. If you have any specific concerns or questions regarding the feed composition, feel free to ask.\n"
          ]
        }
      ],
      "source": [
        "print(f\"Base model response: \\n{response_base_model}\")"
      ]
    }
  ],
  "metadata": {
    "colab": {
      "provenance": []
    },
    "kernelspec": {
      "display_name": "Python 3",
      "name": "python3"
    },
    "language_info": {
      "name": "python"
    }
  },
  "nbformat": 4,
  "nbformat_minor": 0
}